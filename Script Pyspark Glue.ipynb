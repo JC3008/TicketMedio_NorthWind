{
 "cells": [
  {
   "cell_type": "code",
   "execution_count": null,
   "id": "149e4d4d",
   "metadata": {},
   "outputs": [],
   "source": [
    "\n",
    "import sys\n",
    "from awsglue.transforms import *\n",
    "from awsglue.utils import getResolvedOptions\n",
    "from pyspark.context import SparkContext\n",
    "from awsglue.context import GlueContext\n",
    "from awsglue.job import Job\n",
    "\n",
    "## @params: [JOB_NAME]\n",
    "args = getResolvedOptions(sys.argv, ['JOB_NAME'])\n",
    "\n",
    "sc = SparkContext()\n",
    "glueContext = GlueContext(sc)\n",
    "spark = glueContext.spark_session\n",
    "job = Job(glueContext)\n",
    "job.init(args['JOB_NAME'], args)\n",
    "job.commit()\n",
    "\n",
    "\n",
    "cliente = (spark\\\n",
    ".read\\\n",
    ".option(\"inferschema\",\"true\")\\\n",
    ".option('header','true')\\\n",
    ".option('delimiter',',')\\\n",
    ".csv(\"s3://indicium-northwind-datalake/landing/Fact.csv\")\n",
    "# .csv(\"/content/drive/MyDrive/Myra_Processo_Seletivo/cliente.csv\")\n",
    "\n",
    ")\n",
    "\n",
    "cliente = (cliente\\\n",
    ".write\\\n",
    ".partitionBy('customer_id')\\\n",
    ".parquet(\"s3://indicium-northwind-datalake/curated/FactIndiciumParquet\")\n",
    ")"
   ]
  }
 ],
 "metadata": {
  "kernelspec": {
   "display_name": "Python 3 (ipykernel)",
   "language": "python",
   "name": "python3"
  },
  "language_info": {
   "codemirror_mode": {
    "name": "ipython",
    "version": 3
   },
   "file_extension": ".py",
   "mimetype": "text/x-python",
   "name": "python",
   "nbconvert_exporter": "python",
   "pygments_lexer": "ipython3",
   "version": "3.9.7"
  }
 },
 "nbformat": 4,
 "nbformat_minor": 5
}
